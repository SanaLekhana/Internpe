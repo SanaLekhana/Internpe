{
  "nbformat": 4,
  "nbformat_minor": 0,
  "metadata": {
    "colab": {
      "provenance": [],
      "authorship_tag": "ABX9TyMzNkAMhrR9sP6SUlUUN3te",
      "include_colab_link": true
    },
    "kernelspec": {
      "name": "python3",
      "display_name": "Python 3"
    },
    "language_info": {
      "name": "python"
    }
  },
  "cells": [
    {
      "cell_type": "markdown",
      "metadata": {
        "id": "view-in-github",
        "colab_type": "text"
      },
      "source": [
        "<a href=\"https://colab.research.google.com/github/SanaLekhana/Internpe/blob/main/Internpe_task1.ipynb\" target=\"_parent\"><img src=\"https://colab.research.google.com/assets/colab-badge.svg\" alt=\"Open In Colab\"/></a>"
      ]
    },
    {
      "cell_type": "code",
      "execution_count": 1,
      "metadata": {
        "id": "1qu4tHhfuOGw",
        "colab": {
          "base_uri": "https://localhost:8080/"
        },
        "outputId": "946da217-1b9d-4a9c-eb24-88e2d092ed76"
      },
      "outputs": [
        {
          "output_type": "stream",
          "name": "stdout",
          "text": [
            "   |   |   \n",
            "-----------\n",
            "   |   |   \n",
            "-----------\n",
            "   |   |   \n",
            "Player X's turn.\n",
            "Enter a position (1-9): 1\n",
            " X |   |   \n",
            "-----------\n",
            "   |   |   \n",
            "-----------\n",
            "   |   |   \n",
            "Player O's turn.\n",
            "Enter a position (1-9): 2\n",
            " X | O |   \n",
            "-----------\n",
            "   |   |   \n",
            "-----------\n",
            "   |   |   \n",
            "Player X's turn.\n",
            "Enter a position (1-9): 3\n",
            " X | O | X \n",
            "-----------\n",
            "   |   |   \n",
            "-----------\n",
            "   |   |   \n",
            "Player O's turn.\n",
            "Enter a position (1-9): 5\n",
            " X | O | X \n",
            "-----------\n",
            "   | O |   \n",
            "-----------\n",
            "   |   |   \n",
            "Player X's turn.\n",
            "Enter a position (1-9): 8\n",
            " X | O | X \n",
            "-----------\n",
            "   | O |   \n",
            "-----------\n",
            "   | X |   \n",
            "Player O's turn.\n",
            "Enter a position (1-9): 4\n",
            " X | O | X \n",
            "-----------\n",
            " O | O |   \n",
            "-----------\n",
            "   | X |   \n",
            "Player X's turn.\n",
            "Enter a position (1-9): 7\n",
            " X | O | X \n",
            "-----------\n",
            " O | O |   \n",
            "-----------\n",
            " X | X |   \n",
            "Player O's turn.\n",
            "Enter a position (1-9): 6\n",
            " X | O | X \n",
            "-----------\n",
            " O | O | O \n",
            "-----------\n",
            " X | X |   \n",
            "Player O wins!\n"
          ]
        }
      ],
      "source": [
        "def print_board(board):\n",
        "    print(f\" {board[0]} | {board[1]} | {board[2]} \")\n",
        "    print(\"-----------\")\n",
        "    print(f\" {board[3]} | {board[4]} | {board[5]} \")\n",
        "    print(\"-----------\")\n",
        "    print(f\" {board[6]} | {board[7]} | {board[8]} \")\n",
        "\n",
        "def is_winner(board, player):\n",
        "    return ((board[0] == player and board[1] == player and board[2] == player) or\n",
        "            (board[3] == player and board[4] == player and board[5] == player) or\n",
        "            (board[6] == player and board[7] == player and board[8] == player) or\n",
        "            (board[0] == player and board[3] == player and board[6] == player) or\n",
        "            (board[1] == player and board[4] == player and board[7] == player) or\n",
        "            (board[2] == player and board[5] == player and board[8] == player) or\n",
        "            (board[0] == player and board[4] == player and board[8] == player) or\n",
        "            (board[2] == player and board[4] == player and board[6] == player))\n",
        "\n",
        "def is_board_full(board):\n",
        "    return all(x != \" \" for x in board)\n",
        "\n",
        "def get_valid_input(board):\n",
        "    while True:\n",
        "        user_input = input(\"Enter a position (1-9): \")\n",
        "        if not user_input.isdigit():\n",
        "            print(\"Please enter a valid number.\")\n",
        "        elif int(user_input) < 1 or int(user_input) > 9:\n",
        "            print(\"Please enter a number between 1 and 9.\")\n",
        "        elif board[int(user_input) - 1] != \" \":\n",
        "            print(\"That position is already taken.\")\n",
        "        else:\n",
        "            return int(user_input) - 1\n",
        "\n",
        "def play_game():\n",
        "    board = [\" \"] * 9\n",
        "    players = [\"X\", \"O\"]\n",
        "    current_player = players[0]\n",
        "\n",
        "    while True:\n",
        "        print_board(board)\n",
        "        print(f\"Player {current_player}'s turn.\")\n",
        "        position = get_valid_input(board)\n",
        "        board[position] = current_player\n",
        "        if is_winner(board, current_player):\n",
        "            print_board(board)\n",
        "            print(f\"Player {current_player} wins!\")\n",
        "            break\n",
        "        elif is_board_full(board):\n",
        "            print_board(board)\n",
        "            print(\"The game is a tie!\")\n",
        "            break\n",
        "        else:\n",
        "            current_player = players[1] if current_player == players[0] else players[0]\n",
        "\n",
        "play_game()"
      ]
    },
    {
      "cell_type": "code",
      "source": [],
      "metadata": {
        "id": "Lzc44Tvku8Ab"
      },
      "execution_count": null,
      "outputs": []
    }
  ]
}